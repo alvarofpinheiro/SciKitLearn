{
 "cells": [
  {
   "cell_type": "markdown",
   "id": "fff1dd30",
   "metadata": {},
   "source": [
    "# Avaliação Competitiva de Modelos"
   ]
  },
  {
   "cell_type": "markdown",
   "id": "651a9789",
   "metadata": {},
   "source": [
    "## Aplicar diferentes modelos ao mesmo conjunto de dados e depois comparar seu desempenho para escolher o melhor modelo"
   ]
  },
  {
   "cell_type": "markdown",
   "id": "e19179f5",
   "metadata": {},
   "source": [
    "### Os modelos são algoritmos que foram testados, validados e automatizados"
   ]
  },
  {
   "cell_type": "markdown",
   "id": "2f22994d",
   "metadata": {},
   "source": [
    "####  Existem duas principais análises: preditiva e descritiva"
   ]
  },
  {
   "cell_type": "markdown",
   "id": "b299e8e8",
   "metadata": {},
   "source": [
    "#### Análise Descritiva é utilizada para explorar ou descrever um conjunto de dados"
   ]
  },
  {
   "cell_type": "markdown",
   "id": "3646664f",
   "metadata": {},
   "source": [
    "#### Análise Preditiva é utilizada para prever ou estimar um resultado desconhecido"
   ]
  },
  {
   "cell_type": "markdown",
   "id": "6f950617",
   "metadata": {},
   "source": [
    "##### Scikit-learn é uma biblioteca utilizada para acessar os mais variados tipos de aprendizado de máquina\n",
    "##### para instalar: pip install -U scikit-learn"
   ]
  },
  {
   "cell_type": "markdown",
   "id": "fe27ec7e",
   "metadata": {},
   "source": [
    "## Classificação (Treinamento Supervisionado)"
   ]
  },
  {
   "cell_type": "markdown",
   "id": "b0b37317",
   "metadata": {},
   "source": [
    "### são algoritmos utilizados para induzir modelos preditivos por meio da observação de um conjunto de objetos rotulados. Os rótulos contidos no conjunto correspondem as classes ou valores obtidos por alguma função desconhecida. Como saída, o algoritmo buscará produzir um classificador que generalize as informações do conjunto de dados e assim poder classificar posteriormente objetos cujo rótulo não são conhecidos, mostrando o resultado numa informação única, pois, os algoritmos recebem determinados valores e classificam de acordo com o alvo informado"
   ]
  },
  {
   "cell_type": "markdown",
   "id": "330f4e13",
   "metadata": {},
   "source": [
    "### KNeighborsClassifier"
   ]
  },
  {
   "cell_type": "markdown",
   "id": "9113fa1f",
   "metadata": {},
   "source": [
    "#### Para acesso a documentação https://scikit-learn.org/stable/modules/generated/sklearn.neighbors.KNeighborsClassifier.html\n",
    "##### Os dados precisam ser separados em 2 arrays\n",
    "##### O 1o. Bidimensional contendo os objetos e os atributos\n",
    "##### O 2o. Unidimensional contendo apenas as classes representadas por valores inteiros\n",
    "##### É necessário criar arrays numpy para o treinamento através dos métodos train_test_split com os parâmetros x_train, x_test, y_train e y_test"
   ]
  },
  {
   "cell_type": "markdown",
   "id": "b5ec0e84",
   "metadata": {},
   "source": [
    "Para carregar as bibliotecas numpy e matplotlib:"
   ]
  },
  {
   "cell_type": "code",
   "execution_count": 40,
   "id": "785cf1af",
   "metadata": {},
   "outputs": [],
   "source": [
    "import numpy as np\n",
    "import pandas as pd\n",
    "import matplotlib.pyplot as plt"
   ]
  },
  {
   "cell_type": "markdown",
   "id": "2311e0d7",
   "metadata": {},
   "source": [
    "Para carregar o algoritmo desejado da biblioteca Scikit-learn:"
   ]
  },
  {
   "cell_type": "code",
   "execution_count": 3,
   "id": "1fffed90",
   "metadata": {},
   "outputs": [],
   "source": [
    "from sklearn.neighbors import KNeighborsClassifier"
   ]
  },
  {
   "cell_type": "markdown",
   "id": "44d8e5f3",
   "metadata": {},
   "source": [
    "Para carregar a base de dados:"
   ]
  },
  {
   "cell_type": "code",
   "execution_count": 6,
   "id": "c034de6d",
   "metadata": {},
   "outputs": [],
   "source": [
    "from sklearn.datasets import load_iris\n",
    "from sklearn.model_selection import train_test_split\n",
    "iris = load_iris()"
   ]
  },
  {
   "cell_type": "markdown",
   "id": "734ce763",
   "metadata": {},
   "source": [
    "Para visualizar informações estatísticas do conjunto de dados:"
   ]
  },
  {
   "cell_type": "code",
   "execution_count": 8,
   "id": "c4ff6988",
   "metadata": {},
   "outputs": [
    {
     "name": "stdout",
     "output_type": "stream",
     "text": [
      ".. _iris_dataset:\n",
      "\n",
      "Iris plants dataset\n",
      "--------------------\n",
      "\n",
      "**Data Set Characteristics:**\n",
      "\n",
      "    :Number of Instances: 150 (50 in each of three classes)\n",
      "    :Number of Attributes: 4 numeric, predictive attributes and the class\n",
      "    :Attribute Information:\n",
      "        - sepal length in cm\n",
      "        - sepal width in cm\n",
      "        - petal length in cm\n",
      "        - petal width in cm\n",
      "        - class:\n",
      "                - Iris-Setosa\n",
      "                - Iris-Versicolour\n",
      "                - Iris-Virginica\n",
      "                \n",
      "    :Summary Statistics:\n",
      "\n",
      "    ============== ==== ==== ======= ===== ====================\n",
      "                    Min  Max   Mean    SD   Class Correlation\n",
      "    ============== ==== ==== ======= ===== ====================\n",
      "    sepal length:   4.3  7.9   5.84   0.83    0.7826\n",
      "    sepal width:    2.0  4.4   3.05   0.43   -0.4194\n",
      "    petal length:   1.0  6.9   3.76   1.76    0.9490  (high!)\n",
      "    petal width:    0.1  2.5   1.20   0.76    0.9565  (high!)\n",
      "    ============== ==== ==== ======= ===== ====================\n",
      "\n",
      "    :Missing Attribute Values: None\n",
      "    :Class Distribution: 33.3% for each of 3 classes.\n",
      "    :Creator: R.A. Fisher\n",
      "    :Donor: Michael Marshall (MARSHALL%PLU@io.arc.nasa.gov)\n",
      "    :Date: July, 1988\n",
      "\n",
      "The famous Iris database, first used by Sir R.A. Fisher. The dataset is taken\n",
      "from Fisher's paper. Note that it's the same as in R, but not as in the UCI\n",
      "Machine Learning Repository, which has two wrong data points.\n",
      "\n",
      "This is perhaps the best known database to be found in the\n",
      "pattern recognition literature.  Fisher's paper is a classic in the field and\n",
      "is referenced frequently to this day.  (See Duda & Hart, for example.)  The\n",
      "data set contains 3 classes of 50 instances each, where each class refers to a\n",
      "type of iris plant.  One class is linearly separable from the other 2; the\n",
      "latter are NOT linearly separable from each other.\n",
      "\n",
      ".. topic:: References\n",
      "\n",
      "   - Fisher, R.A. \"The use of multiple measurements in taxonomic problems\"\n",
      "     Annual Eugenics, 7, Part II, 179-188 (1936); also in \"Contributions to\n",
      "     Mathematical Statistics\" (John Wiley, NY, 1950).\n",
      "   - Duda, R.O., & Hart, P.E. (1973) Pattern Classification and Scene Analysis.\n",
      "     (Q327.D83) John Wiley & Sons.  ISBN 0-471-22361-1.  See page 218.\n",
      "   - Dasarathy, B.V. (1980) \"Nosing Around the Neighborhood: A New System\n",
      "     Structure and Classification Rule for Recognition in Partially Exposed\n",
      "     Environments\".  IEEE Transactions on Pattern Analysis and Machine\n",
      "     Intelligence, Vol. PAMI-2, No. 1, 67-71.\n",
      "   - Gates, G.W. (1972) \"The Reduced Nearest Neighbor Rule\".  IEEE Transactions\n",
      "     on Information Theory, May 1972, 431-433.\n",
      "   - See also: 1988 MLC Proceedings, 54-64.  Cheeseman et al\"s AUTOCLASS II\n",
      "     conceptual clustering system finds 3 classes in the data.\n",
      "   - Many, many more ...\n"
     ]
    }
   ],
   "source": [
    "print(iris.DESCR)"
   ]
  },
  {
   "cell_type": "markdown",
   "id": "7ce64d34",
   "metadata": {},
   "source": [
    "Para visualizar informações específicas do conjunto de dados:"
   ]
  },
  {
   "cell_type": "code",
   "execution_count": 14,
   "id": "d72d46b0",
   "metadata": {},
   "outputs": [
    {
     "name": "stdout",
     "output_type": "stream",
     "text": [
      "['setosa' 'versicolor' 'virginica']\n",
      "['sepal length (cm)', 'sepal width (cm)', 'petal length (cm)', 'petal width (cm)']\n",
      "(150, 4)\n",
      "[[5.1 3.5 1.4 0.2]\n",
      " [4.9 3.  1.4 0.2]\n",
      " [4.7 3.2 1.3 0.2]\n",
      " [4.6 3.1 1.5 0.2]\n",
      " [5.  3.6 1.4 0.2]\n",
      " [5.4 3.9 1.7 0.4]\n",
      " [4.6 3.4 1.4 0.3]\n",
      " [5.  3.4 1.5 0.2]\n",
      " [4.4 2.9 1.4 0.2]\n",
      " [4.9 3.1 1.5 0.1]]\n",
      "[0 0 0 0 0 0 0 0 0 0 0 0 0 0 0 0 0 0 0 0 0 0 0 0 0 0 0 0 0 0 0 0 0 0 0 0 0\n",
      " 0 0 0 0 0 0 0 0 0 0 0 0 0 1 1 1 1 1 1 1 1 1 1 1 1 1 1 1 1 1 1 1 1 1 1 1 1\n",
      " 1 1 1 1 1 1 1 1 1 1 1 1 1 1 1 1 1 1 1 1 1 1 1 1 1 1 2 2 2 2 2 2 2 2 2 2 2\n",
      " 2 2 2 2 2 2 2 2 2 2 2 2 2 2 2 2 2 2 2 2 2 2 2 2 2 2 2 2 2 2 2 2 2 2 2 2 2\n",
      " 2 2]\n"
     ]
    }
   ],
   "source": [
    "print(iris.target_names)\n",
    "print(iris.feature_names)\n",
    "print(iris['data'].shape)\n",
    "print(iris['data'][:10])\n",
    "print(iris['target']) # 0 = setosa, 1 = versicolor, 2 = virginica"
   ]
  },
  {
   "cell_type": "markdown",
   "id": "145ce475",
   "metadata": {},
   "source": [
    "Para criar o objeto com os dados do treinamento"
   ]
  },
  {
   "cell_type": "code",
   "execution_count": 33,
   "id": "c325ab34",
   "metadata": {},
   "outputs": [],
   "source": [
    "k=1\n",
    "knn = KNeighborsClassifier(n_neighbors = k)"
   ]
  },
  {
   "cell_type": "markdown",
   "id": "a6b9d746",
   "metadata": {},
   "source": [
    "Para criar os array numpy  x_train, x_test, y_train e y_test usar o método train_test_split"
   ]
  },
  {
   "cell_type": "code",
   "execution_count": 15,
   "id": "5a9ddc36",
   "metadata": {},
   "outputs": [],
   "source": [
    "x_train, x_test, y_train, y_test = train_test_split(iris['data'], iris['target'], random_state = 0)"
   ]
  },
  {
   "cell_type": "markdown",
   "id": "54d3ba65",
   "metadata": {},
   "source": [
    "Para definir o modelo fazendo uso dos dados de X para treinamento e de Y como valores-alvo:"
   ]
  },
  {
   "cell_type": "code",
   "execution_count": 17,
   "id": "b2c9e94c",
   "metadata": {},
   "outputs": [
    {
     "data": {
      "text/plain": [
       "KNeighborsClassifier(n_neighbors=1)"
      ]
     },
     "execution_count": 17,
     "metadata": {},
     "output_type": "execute_result"
    }
   ],
   "source": [
    "knn.fit(x_train, y_train)"
   ]
  },
  {
   "cell_type": "markdown",
   "id": "1c4e0091",
   "metadata": {},
   "source": [
    "Para criar um novo array para os novos valores preditos pelo algoritmo:"
   ]
  },
  {
   "cell_type": "code",
   "execution_count": 19,
   "id": "8a0b0684",
   "metadata": {},
   "outputs": [],
   "source": [
    "dados = np.array([[5, 2.9, 1, 0.2]])\n",
    "predicao = knn.predict(dados)"
   ]
  },
  {
   "cell_type": "markdown",
   "id": "1532e6b8",
   "metadata": {},
   "source": [
    "Para visualizar a classe provável:"
   ]
  },
  {
   "cell_type": "code",
   "execution_count": 25,
   "id": "ac4907f7",
   "metadata": {},
   "outputs": [
    {
     "name": "stdout",
     "output_type": "stream",
     "text": [
      "['setosa']\n"
     ]
    }
   ],
   "source": [
    "print(iris['target_names'][predicao])"
   ]
  },
  {
   "cell_type": "markdown",
   "id": "bc7b31ca",
   "metadata": {},
   "source": [
    "Para visualizar a probabilidade de certeza:"
   ]
  },
  {
   "cell_type": "code",
   "execution_count": 26,
   "id": "80309897",
   "metadata": {},
   "outputs": [
    {
     "name": "stdout",
     "output_type": "stream",
     "text": [
      "0.9736842105263158\n"
     ]
    }
   ],
   "source": [
    "print(knn.score(x_test, y_test))"
   ]
  },
  {
   "cell_type": "markdown",
   "id": "cca16d40",
   "metadata": {},
   "source": [
    "## Regressão (Treinamento Supervisionado)"
   ]
  },
  {
   "cell_type": "markdown",
   "id": "e3abee76",
   "metadata": {},
   "source": [
    "### são algoritmos utilizados para mostrar valores reais, onde é passado um conjunto de variáveis e o algoritmo retorna a um valor associado, podendo ser um regressão linear, que estuda os números buscando uma relação entre variáveis, isto é, busca estudar uma variável de interesse (variável dependente) em função de outras variáveis que irão ajudar a entendê-las, analisando o comportamento de duas variáveis quantitativas distintas, ou seja, mede o grau de associação entre duas variáveis aleatórias, normalmente X e Y, exemplificando, pode-se aplicar a regressão para estudar o comportamento de uma moeda em função a um indicador econômico, assim, quando se plota um gráfico com os dados (x, y) se pode observar como a linha se comportará no gráfico, informando qual é a melhor curva ou reta a ser utilizada."
   ]
  },
  {
   "cell_type": "markdown",
   "id": "6787c87e",
   "metadata": {},
   "source": [
    "Para carregar o algoritmo desejado da biblioteca Scikit-learn:"
   ]
  },
  {
   "cell_type": "code",
   "execution_count": 28,
   "id": "8215406f",
   "metadata": {},
   "outputs": [],
   "source": [
    "from sklearn.neighbors import KNeighborsRegressor"
   ]
  },
  {
   "cell_type": "markdown",
   "id": "ece0c1f8",
   "metadata": {},
   "source": [
    "Para carregar a base de dados:"
   ]
  },
  {
   "cell_type": "code",
   "execution_count": 32,
   "id": "d828974f",
   "metadata": {},
   "outputs": [],
   "source": [
    "from sklearn.datasets import load_boston\n",
    "from sklearn.model_selection import train_test_split\n",
    "boston = load_boston()"
   ]
  },
  {
   "cell_type": "markdown",
   "id": "479e28fd",
   "metadata": {},
   "source": [
    "Para criar o objeto com os dados do treinamento"
   ]
  },
  {
   "cell_type": "code",
   "execution_count": 34,
   "id": "ebad128f",
   "metadata": {},
   "outputs": [],
   "source": [
    "k = 9\n",
    "knn = KNeighborsRegressor(n_neighbors = k)"
   ]
  },
  {
   "cell_type": "markdown",
   "id": "7bff775e",
   "metadata": {},
   "source": [
    "Para definir o modelo fazendo uso dos dados de X para treinamento e de Y como valores-alvo:"
   ]
  },
  {
   "cell_type": "code",
   "execution_count": 35,
   "id": "d9f2d3d7",
   "metadata": {},
   "outputs": [
    {
     "data": {
      "text/plain": [
       "KNeighborsRegressor(n_neighbors=9)"
      ]
     },
     "execution_count": 35,
     "metadata": {},
     "output_type": "execute_result"
    }
   ],
   "source": [
    "knn.fit(boston.data, boston.target)"
   ]
  },
  {
   "cell_type": "markdown",
   "id": "91bec611",
   "metadata": {},
   "source": [
    "Para criar um novo array para os novos valores preditos pelo algoritmo:"
   ]
  },
  {
   "cell_type": "code",
   "execution_count": 36,
   "id": "cd2a2c93",
   "metadata": {},
   "outputs": [],
   "source": [
    "y_ = knn.fit(boston.data, boston.target).predict([boston.data[12]])\n",
    "x, y = boston.data[:50], boston.target[:50]\n",
    "y_ = knn.fit(x,y).predict(x)"
   ]
  },
  {
   "cell_type": "markdown",
   "id": "c94d4bff",
   "metadata": {},
   "source": [
    "Para visualizar o comportamento:"
   ]
  },
  {
   "cell_type": "code",
   "execution_count": 38,
   "id": "28b91384",
   "metadata": {},
   "outputs": [
    {
     "data": {
      "image/png": "[encoded data removed]",
      "text/plain": [
       "<Figure size 432x288 with 1 Axes>"
      ]
     },
     "metadata": {
      "needs_background": "light"
     },
     "output_type": "display_data"
    }
   ],
   "source": [
    "plt.plot(np.linspace(-1,1,50),y, label='dados reais', color='black')\n",
    "plt.plot(np.linspace(-1,1,50),y_, label='predição', color='red')\n",
    "plt.legend()\n",
    "plt.show()"
   ]
  },
  {
   "cell_type": "markdown",
   "id": "60009df1",
   "metadata": {},
   "source": [
    "## Agrupamento (Treinamento Não Supervisionado)"
   ]
  },
  {
   "cell_type": "markdown",
   "id": "90855b05",
   "metadata": {},
   "source": [
    "### são algoritmos utilizados para separar elementos, agrupando num mesmo grupo os dados com as mesmas características, normalmente fazendo uso de função de dissimilaridade que retornam à distância entre dois objetos."
   ]
  },
  {
   "cell_type": "markdown",
   "id": "53717c75",
   "metadata": {},
   "source": [
    "Para importar métricas do sklearn:"
   ]
  },
  {
   "cell_type": "code",
   "execution_count": 41,
   "id": "e993edfa",
   "metadata": {},
   "outputs": [],
   "source": [
    "from sklearn.metrics import confusion_matrix,classification_report"
   ]
  },
  {
   "cell_type": "markdown",
   "id": "5600b354",
   "metadata": {},
   "source": [
    "Para carrgar dados para exemplo:"
   ]
  },
  {
   "cell_type": "code",
   "execution_count": 61,
   "id": "9bd8deb4",
   "metadata": {},
   "outputs": [],
   "source": [
    "from sklearn.datasets import load_iris\n",
    "from sklearn.model_selection import train_test_split"
   ]
  },
  {
   "cell_type": "markdown",
   "id": "e7b376f4",
   "metadata": {},
   "source": [
    "Para carregar o algoritmo desejado da biblioteca Scikit-learn:"
   ]
  },
  {
   "cell_type": "code",
   "execution_count": 72,
   "id": "069ee0ca",
   "metadata": {},
   "outputs": [],
   "source": [
    "from sklearn.cluster import KMeans"
   ]
  },
  {
   "cell_type": "markdown",
   "id": "d3739c5c",
   "metadata": {},
   "source": [
    "Para carregar os dados de uma base num dataframe"
   ]
  },
  {
   "cell_type": "code",
   "execution_count": 64,
   "id": "11e4109e",
   "metadata": {},
   "outputs": [],
   "source": [
    "target = pd.DataFrame(iris.target)\n",
    "iris = load_iris()"
   ]
  },
  {
   "cell_type": "markdown",
   "id": "148200e3",
   "metadata": {},
   "source": [
    "Para carregar os dados na variável x"
   ]
  },
  {
   "cell_type": "code",
   "execution_count": 66,
   "id": "a3d4c4b7",
   "metadata": {},
   "outputs": [],
   "source": [
    "x = pd.DataFrame(iris.data, columns=['Sépala Comprimento','Sépala Largura','Pétala Comprimento','Pétala Largura'])"
   ]
  },
  {
   "cell_type": "markdown",
   "id": "d739e752",
   "metadata": {},
   "source": [
    "Para carregar os dados na variável y"
   ]
  },
  {
   "cell_type": "code",
   "execution_count": 67,
   "id": "4a34dbb1",
   "metadata": {},
   "outputs": [],
   "source": [
    "y = pd.DataFrame(iris.target, columns=['target'])"
   ]
  },
  {
   "cell_type": "markdown",
   "id": "7920719d",
   "metadata": {},
   "source": [
    "Para visualizar a plotagem"
   ]
  },
  {
   "cell_type": "code",
   "execution_count": 68,
   "id": "af6977a3",
   "metadata": {},
   "outputs": [
    {
     "data": {
      "text/plain": [
       "Text(0.5, 1.0, 'Pétala Comprimento x Pétala largura')"
      ]
     },
     "execution_count": 68,
     "metadata": {},
     "output_type": "execute_result"
    },
    {
     "data": {
      "image/png": "[encoded data removed]",
      "text/plain": [
       "<Figure size 864x216 with 2 Axes>"
      ]
     },
     "metadata": {
      "needs_background": "light"
     },
     "output_type": "display_data"
    }
   ],
   "source": [
    "plt.figure(figsize=(12,3))\n",
    "colors = np.array(['red','green','blue'])\n",
    "plt.subplot(1,2,1)\n",
    "plt.scatter(x['Sépala Comprimento'], x['Sépala Largura'], c=colors[y['target']],s=40)\n",
    "plt.title('Sepala Comprimento x Sepala largura')\n",
    "plt.subplot(1,2,2)\n",
    "plt.scatter(x['Pétala Comprimento'], x['Pétala Largura'], c=colors[y['target']],s=40)\n",
    "plt.title('Pétala Comprimento x Pétala largura')"
   ]
  },
  {
   "cell_type": "raw",
   "id": "61bf6010",
   "metadata": {},
   "source": [
    "Para executar o modelo:"
   ]
  },
  {
   "cell_type": "code",
   "execution_count": 73,
   "id": "55395a90",
   "metadata": {},
   "outputs": [
    {
     "data": {
      "text/plain": [
       "KMeans(n_clusters=3)"
      ]
     },
     "execution_count": 73,
     "metadata": {},
     "output_type": "execute_result"
    }
   ],
   "source": [
    "model = KMeans(n_clusters = 3)\n",
    "model.fit(x)"
   ]
  },
  {
   "cell_type": "markdown",
   "id": "882f6c08",
   "metadata": {},
   "source": [
    "Para visualização:"
   ]
  },
  {
   "cell_type": "code",
   "execution_count": 74,
   "id": "7a2db980",
   "metadata": {},
   "outputs": [
    {
     "data": {
      "image/png": "[encoded data removed]",
      "text/plain": [
       "<Figure size 864x216 with 2 Axes>"
      ]
     },
     "metadata": {
      "needs_background": "light"
     },
     "output_type": "display_data"
    }
   ],
   "source": [
    "plt.figure(figsize=(12,3))\n",
    "colors = np.array(['red','green','blue'])\n",
    "predictedY = np.choose(model.labels_, [1,0,2]).astype(np.int64)\n",
    "plt.subplot(1,2,1)\n",
    "plt.scatter(x['Pétala Comprimento'], x['Pétala Largura'], c=colors[y['target']],s=40)\n",
    "plt.title('Antes da Classificação')\n",
    "plt.subplot(1,2,2)\n",
    "plt.scatter(x['Pétala Comprimento'], x['Pétala Largura'], c=colors[predictedY],s=40)\n",
    "plt.title('Classificação do Modelo')\n",
    "plt.plot()\n",
    "plt.show()"
   ]
  }
 ],
 "metadata": {
  "kernelspec": {
   "display_name": "Python 3",
   "language": "python",
   "name": "python3"
  },
  "language_info": {
   "codemirror_mode": {
    "name": "ipython",
    "version": 3
   },
   "file_extension": ".py",
   "mimetype": "text/x-python",
   "name": "python",
   "nbconvert_exporter": "python",
   "pygments_lexer": "ipython3",
   "version": "3.8.8"
  }
 },
 "nbformat": 4,
 "nbformat_minor": 5
}
